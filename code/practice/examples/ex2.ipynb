{
 "cells": [
  {
   "cell_type": "code",
   "execution_count": 23,
   "metadata": {},
   "outputs": [
    {
     "name": "stdout",
     "output_type": "stream",
     "text": [
      "(840, 1, 73, 144)\n"
     ]
    },
    {
     "name": "stderr",
     "output_type": "stream",
     "text": [
      "cdo import_binary: Processed 1 variable [0.00s 486MB]\n"
     ]
    },
    {
     "data": {
      "text/plain": [
       "0"
      ]
     },
     "execution_count": 23,
     "metadata": {},
     "output_type": "execute_result"
    }
   ],
   "source": [
    "from netCDF4 import Dataset\n",
    "import numpy as np\n",
    "import os, pathlib\n",
    "\n",
    "i_path = '/home/inhye_yoo/edu/datasets/'\n",
    "i_name = 'ERA.sst_anom.195001_201912.nc'\n",
    "f= Dataset(i_path+i_name, 'r')\n",
    "dat = f.variables['p'][:,:,:]\n",
    "f.close()\n",
    "\n",
    "print(dat.shape)\n",
    "dat = np.array(dat)\n",
    "dat = dat.reshape(-1,73,144)\n",
    "dat = np.where(dat ==-9.99e+08, np.nan, dat)\n",
    "\n",
    "lat = np.arange(-90.0, 92.5, 2.5)\n",
    "lat = np.cos(np.radians(lat))\n",
    "lat = np.full_like(dat, lat[np.newaxis, ..., np.newaxis])\n",
    "lat = np.where(np.isnan(dat)==True, np.nan, lat)\n",
    "\n",
    "pick_dat = dat[:, 34:39, 76:97]\n",
    "pick_lat = lat[:, 34:39, 76:97]\n",
    "\n",
    "idx = np.nansum(pick_dat*pick_lat, axis=(1,2))/np.nansum(lat, axis=(1,2))\n",
    "\n",
    "idx = idx.reshape(-1)\n",
    "idx = idx.reshape(-1,12)\n",
    "\n",
    "nino34 = np.append(idx[:-1], idx[1:], axis=1)\n",
    "\n",
    "djf_nino34 = np.mean(nino34[:,11:14],axis=1)\n",
    "djf_nino34 = djf_nino34.reshape(-1)\n",
    "\n",
    "o_path = '/home/inhye_yoo/edu/datasets/'\n",
    "o_name = 'DJF_NINO34_idx_1950_2019'\n",
    "\n",
    "# save\n",
    "djf_nino34 = np.array(djf_nino34)\n",
    "djf_nino34.astype('float32').tofile(o_path+o_name+'.gdat')\n",
    "\n",
    "ctl = open(o_path+o_name+'.ctl','w')\n",
    "ctl.write('dset ^'+o_name+'.gdat\\n')\n",
    "ctl.write('undef    -9.99e+08\\n')\n",
    "ctl.write('xdef 1   linear  0.  2.5\\n')\n",
    "ctl.write('ydef 1   linear  -90.    2.5\\n')\n",
    "ctl.write('zdef 1   linear  1   1\\n')\n",
    "ctl.write('tdef '+str(len(djf_nino34))+'    linear  jan1950 1mo\\n')\n",
    "ctl.write('vars 1\\n')\n",
    "ctl.write('nino34   1   1   variable\\n')\n",
    "ctl.write('ENDVARS\\n')\n",
    "ctl.close()\n",
    "\n",
    "os.system('cdo -f nc import_binary '+o_path+o_name+'.ctl '+o_path+o_name+'.nc')\n",
    "os.system('rm -f '+o_path+o_name+'.ctl'+o_path+o_name+'.gdat')"
   ]
  },
  {
   "cell_type": "code",
   "execution_count": null,
   "metadata": {},
   "outputs": [],
   "source": [
    "import numpy as np\n",
    "import matplotllib.pyplot as plt\n",
    "import matplotlib.ticker as mticker\n",
    "import cartopy.crs as ccrs\n",
    "from cartopy.mpl.gridliner import LONGITUDE_FORMATTER, LATITUDE_FORMATTER\n",
    "from cartopy.mpl.ticker import LongitudeFormatter, LatitudeFormatter\n",
    "import sys\n",
    "from matplotlib.patches import Rectanglle"
   ]
  },
  {
   "cell_type": "code",
   "execution_count": null,
   "metadata": {},
   "outputs": [],
   "source": []
  }
 ],
 "metadata": {
  "kernelspec": {
   "display_name": "Python (ih)",
   "language": "python",
   "name": "ih"
  }
 },
 "nbformat": 4,
 "nbformat_minor": 2
}
