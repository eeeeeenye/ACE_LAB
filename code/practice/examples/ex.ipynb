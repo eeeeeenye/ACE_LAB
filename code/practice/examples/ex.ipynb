{
 "cells": [
  {
   "cell_type": "code",
   "execution_count": null,
   "metadata": {},
   "outputs": [],
   "source": [
    "DJF 데이터 추출\n",
    "nino = np.append(anom[:-1], anom[1:], axis=1)  # 한 해의 12월 + 다음 해의 1,2월\n",
    "djf = np.mean(nino[:, 11:14], axis=1)  # 12, 1, 2월 평균\n",
    "\n",
    "print(djf.shape) (29, 73, 144)\n",
    "\n",
    "# # 위도 가중 평균 계산\n",
    "idx = p.region_mean(data_list=djf, nino34=True)\n",
    "\n",
    "lat = np.arange(-90, 92.5, 2.5)  # 위도 배열 생성\n",
    "lat = np.cos(np.radians(lat))  # 위도에 따른 가중치 계산\n",
    "lat = np.full_like(data_list, lat[np.newaxis, :, np.newaxis])  # (29, 73, 144) 형태로 확장\n",
    "lat = np.where(np.isnan(data_list), np.nan, lat)  # 결측값 반영\n",
    "\n",
    "pick_dat = data_list[:,34:39, 76:97]\n",
    "pick_lat = lat[:,34:39, 76:97]\n",
    "idx = np.nansum(pick_dat * pick_lat, axis=(1, 2)) / np.nansum(lat, axis=(1, 2))  # (29,)"
   ]
  }
 ],
 "metadata": {
  "language_info": {
   "name": "python"
  }
 },
 "nbformat": 4,
 "nbformat_minor": 2
}
